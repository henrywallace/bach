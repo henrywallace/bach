{
 "cells": [
  {
   "cell_type": "markdown",
   "metadata": {},
   "source": [
    "First, we define a function to allow us to extract the Bach midi files."
   ]
  },
  {
   "cell_type": "code",
   "execution_count": 1,
   "metadata": {
    "collapsed": false
   },
   "outputs": [],
   "source": [
    "from zipfile import ZipFile\n",
    "from music21 import midi, stream, note, pitch, duration\n",
    "\n",
    "def midis_from_zip(zip_path):\n",
    "    mfs = []\n",
    "    with ZipFile(zip_path) as zip:\n",
    "        for filename in (f.filename for f in zip.filelist):\n",
    "            with zip.open(filename) as f:\n",
    "                mf = midi.MidiFile()\n",
    "                mf.file = f\n",
    "                mf.read()\n",
    "            mfs.append(mf)\n",
    "    return mfs"
   ]
  },
  {
   "cell_type": "code",
   "execution_count": 2,
   "metadata": {
    "collapsed": false
   },
   "outputs": [],
   "source": [
    "midis = midis_from_zip('bwv1007.zip')"
   ]
  },
  {
   "cell_type": "markdown",
   "metadata": {},
   "source": [
    "Now, let's see if we can play these midi files."
   ]
  },
  {
   "cell_type": "code",
   "execution_count": 3,
   "metadata": {
    "collapsed": false
   },
   "outputs": [],
   "source": [
    "def play_midi(mf):\n",
    "    s = midi.translate.midiFileToStream(mf)\n",
    "    s.show('midi')"
   ]
  },
  {
   "cell_type": "code",
   "execution_count": 4,
   "metadata": {
    "collapsed": false
   },
   "outputs": [
    {
     "data": {
      "text/html": [
       "\n",
       "                <div id='midiPlayerDiv3564'></div>\n",
       "                <link rel=\"stylesheet\" href=\"http://artusi.xyz/music21j/css/m21.css\" \n",
       "                    type=\"text/css\" />\n",
       "                <script>\n",
       "                require.config({\n",
       "                    paths: {'music21': 'http://artusi.xyz/music21j/src/music21'} \n",
       "                }); \n",
       "                require(['music21'], function() { \n",
       "                               mp = new music21.miditools.MidiPlayer();\n",
       "                               mp.addPlayer('#midiPlayerDiv3564'); \n",
       "                               mp.base64Load('data:audio/midi;base64,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'); \n",
       "                        });\n",
       "                </script>"
      ],
      "text/plain": [
       "<IPython.core.display.HTML object>"
      ]
     },
     "metadata": {},
     "output_type": "display_data"
    }
   ],
   "source": [
    "play_midi(midis[0])"
   ]
  },
  {
   "cell_type": "markdown",
   "metadata": {},
   "source": [
    "Excellent! Now, it looks like track at index 1 has the primary melody. And if we delete the others, then we can here no chords. This implies that event lists cannot overlap.\n",
    "\n",
    "Now, let's see if we can translate the event list into something more managable."
   ]
  },
  {
   "cell_type": "code",
   "execution_count": 5,
   "metadata": {
    "collapsed": false
   },
   "outputs": [],
   "source": [
    "score = midi.translate.midiFileToStream(midis[0])"
   ]
  },
  {
   "cell_type": "code",
   "execution_count": 6,
   "metadata": {
    "collapsed": true
   },
   "outputs": [],
   "source": [
    "def play_stream(stream):\n",
    "    play_midi(midi.translate.streamToMidiFile(stream))"
   ]
  },
  {
   "cell_type": "code",
   "execution_count": 7,
   "metadata": {
    "collapsed": false
   },
   "outputs": [
    {
     "data": {
      "text/html": [
       "\n",
       "                <div id='midiPlayerDiv4060'></div>\n",
       "                <link rel=\"stylesheet\" href=\"http://artusi.xyz/music21j/css/m21.css\" \n",
       "                    type=\"text/css\" />\n",
       "                <script>\n",
       "                require.config({\n",
       "                    paths: {'music21': 'http://artusi.xyz/music21j/src/music21'} \n",
       "                }); \n",
       "                require(['music21'], function() { \n",
       "                               mp = new music21.miditools.MidiPlayer();\n",
       "                               mp.addPlayer('#midiPlayerDiv4060'); \n",
       "                               mp.base64Load('data:audio/midi;base64,TVRoZAAAAAYAAQABBABNVHJrAAAAFwD/AwAA4ABAkACQRlqYAIBGAIgA/y8A'); \n",
       "                        });\n",
       "                </script>"
      ],
      "text/plain": [
       "<IPython.core.display.HTML object>"
      ]
     },
     "metadata": {},
     "output_type": "display_data"
    }
   ],
   "source": [
    "part = stream.Part()\n",
    "\n",
    "n = note.Note('A#')\n",
    "n.duration.quarterLength = 3\n",
    "\n",
    "part.append(n)\n",
    "\n",
    "play_stream(part)"
   ]
  },
  {
   "cell_type": "code",
   "execution_count": 8,
   "metadata": {
    "collapsed": false
   },
   "outputs": [],
   "source": [
    "def notes_from_part(part):\n",
    "    return [n for n in part\n",
    "            if isinstance(n, note.Note)]"
   ]
  },
  {
   "cell_type": "code",
   "execution_count": 9,
   "metadata": {
    "collapsed": false
   },
   "outputs": [],
   "source": [
    "def play_notes(notes):\n",
    "    part = stream.Part()\n",
    "    for n in notes:\n",
    "        part.append(n)\n",
    "    play_stream(part)"
   ]
  },
  {
   "cell_type": "code",
   "execution_count": 10,
   "metadata": {
    "collapsed": false
   },
   "outputs": [
    {
     "data": {
      "text/html": [
       "\n",
       "                <div id='midiPlayerDiv10792'></div>\n",
       "                <link rel=\"stylesheet\" href=\"http://artusi.xyz/music21j/css/m21.css\" \n",
       "                    type=\"text/css\" />\n",
       "                <script>\n",
       "                require.config({\n",
       "                    paths: {'music21': 'http://artusi.xyz/music21j/src/music21'} \n",
       "                }); \n",
       "                require(['music21'], function() { \n",
       "                               mp = new music21.miditools.MidiPlayer();\n",
       "                               mp.addPlayer('#midiPlayerDiv10792'); \n",
       "                               mp.base64Load('data:audio/midi;base64,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'); \n",
       "                        });\n",
       "                </script>"
      ],
      "text/plain": [
       "<IPython.core.display.HTML object>"
      ]
     },
     "metadata": {},
     "output_type": "display_data"
    }
   ],
   "source": [
    "play_notes(notes_from_part(score[0]))"
   ]
  },
  {
   "cell_type": "code",
   "execution_count": 11,
   "metadata": {
    "collapsed": false
   },
   "outputs": [],
   "source": [
    "notes = notes_from_part(score[0])"
   ]
  },
  {
   "cell_type": "code",
   "execution_count": 12,
   "metadata": {
    "collapsed": false
   },
   "outputs": [
    {
     "data": {
      "text/plain": [
       "'D3'"
      ]
     },
     "execution_count": 12,
     "metadata": {},
     "output_type": "execute_result"
    }
   ],
   "source": [
    "str(notes[0].pitch)"
   ]
  },
  {
   "cell_type": "code",
   "execution_count": 13,
   "metadata": {
    "collapsed": false
   },
   "outputs": [
    {
     "data": {
      "text/html": [
       "\n",
       "                <div id='midiPlayerDiv17104'></div>\n",
       "                <link rel=\"stylesheet\" href=\"http://artusi.xyz/music21j/css/m21.css\" \n",
       "                    type=\"text/css\" />\n",
       "                <script>\n",
       "                require.config({\n",
       "                    paths: {'music21': 'http://artusi.xyz/music21j/src/music21'} \n",
       "                }); \n",
       "                require(['music21'], function() { \n",
       "                               mp = new music21.miditools.MidiPlayer();\n",
       "                               mp.addPlayer('#midiPlayerDiv17104'); \n",
       "                               mp.base64Load('data:audio/midi;base64,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'); \n",
       "                        });\n",
       "                </script>"
      ],
      "text/plain": [
       "<IPython.core.display.HTML object>"
      ]
     },
     "metadata": {},
     "output_type": "display_data"
    }
   ],
   "source": [
    "part = stream.Part()\n",
    "for n in notes:\n",
    "    pitch, duration = n.pitch, n.duration.quarterLength\n",
    "    m = note.Note(pitch)\n",
    "    m.duration.quarterLength = duration\n",
    "    part.append(m)\n",
    "play_stream(part)"
   ]
  },
  {
   "cell_type": "code",
   "execution_count": 39,
   "metadata": {
    "collapsed": false
   },
   "outputs": [
    {
     "data": {
      "text/html": [
       "\n",
       "                <div id='midiPlayerDiv76816'></div>\n",
       "                <link rel=\"stylesheet\" href=\"http://artusi.xyz/music21j/css/m21.css\" \n",
       "                    type=\"text/css\" />\n",
       "                <script>\n",
       "                require.config({\n",
       "                    paths: {'music21': 'http://artusi.xyz/music21j/src/music21'} \n",
       "                }); \n",
       "                require(['music21'], function() { \n",
       "                               mp = new music21.miditools.MidiPlayer();\n",
       "                               mp.addPlayer('#midiPlayerDiv76816'); \n",
       "                               mp.base64Load('data:audio/midi;base64,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'); \n",
       "                        });\n",
       "                </script>"
      ],
      "text/plain": [
       "<IPython.core.display.HTML object>"
      ]
     },
     "metadata": {},
     "output_type": "display_data"
    }
   ],
   "source": [
    "from collections import defaultdict\n",
    "from itertools import islice\n",
    "import random\n",
    "from functools import wraps\n",
    "\n",
    "def ngrams(it, n=2):\n",
    "    it = list(it)\n",
    "    yield from zip(*(islice(it, i, None) for i in range(n)))\n",
    "\n",
    "def pitch_to_note(func):\n",
    "    @wraps(func)\n",
    "    def wrapper(*args, **kwargs):\n",
    "        pitch = func(*args, **kwargs)\n",
    "        n = note.Note(pitch)\n",
    "        return n\n",
    "    return wrapper\n",
    "\n",
    "class State(object):\n",
    "    def __init__(self, pitch):\n",
    "        self.pitch = pitch\n",
    "        \n",
    "        # state->count\n",
    "        self.target_counts = defaultdict(int)\n",
    "        self.target_probs = {}\n",
    "        \n",
    "    def update(self, pitch, count):\n",
    "        self.target_counts[pitch] += count\n",
    "        \n",
    "    def compute_probabilities(self):\n",
    "        z = sum(self.target_counts.values())\n",
    "        for key, value in self.target_counts.items():\n",
    "            self.target_probs[key] = value / z\n",
    "        return self.target_probs\n",
    "    \n",
    "    @pitch_to_note\n",
    "    def sample_transition(self):\n",
    "        x = random.random()\n",
    "        for key, prob in self.target_probs.items():\n",
    "            if prob > x:\n",
    "                return key\n",
    "            x -= prob\n",
    "        return key\n",
    "    \n",
    "def transitions(notes, n=2):\n",
    "    note_info = (note.pitch for note in notes)\n",
    "    transitions = ngrams(note_info, n=n)\n",
    "\n",
    "    #counts = Counter(ngrams(note_info, n=2))\n",
    "    \n",
    "    states = {}\n",
    "    for t in transitions:\n",
    "        *source, target = t\n",
    "        source = tuple(source)\n",
    "        if source not in states:\n",
    "            states[source] = State(pitch)\n",
    "        states[source].update(target, 1)\n",
    "        \n",
    "    for state in states.values():\n",
    "        state.compute_probabilities()\n",
    "    \n",
    "    return states\n",
    "\n",
    "def sample_markov(source_notes, states, num_notes=100, dur=1, n=2):\n",
    "    curr_source = tuple([note.pitch for note in source_notes[:n - 1]])\n",
    "    notes = []\n",
    "    for _ in range(num_notes):\n",
    "        curr_state = states[curr_source]\n",
    "        next_note = curr_state.sample_transition()\n",
    "        next_note.duration.quarterLength = dur\n",
    "        notes.append(next_note)\n",
    "        curr_source = tuple(list(curr_source[1:]) + [next_note.pitch])\n",
    "    return notes\n",
    "\n",
    "# stop magic from happening\n",
    "try:\n",
    "    del states\n",
    "except NameError:\n",
    "    pass\n",
    "\n",
    "n = 7\n",
    "scores = [midi.translate.midiFileToStream(m) for m in midis]\n",
    "notes = sum((notes_from_part(score[0]) for score in scores), [])\n",
    "states = transitions(notes, n=n)\n",
    "new_notes = sample_markov(notes, states, num_notes=200, dur=0.5, n=n)\n",
    "play_notes(new_notes)"
   ]
  },
  {
   "cell_type": "code",
   "execution_count": null,
   "metadata": {
    "collapsed": true
   },
   "outputs": [],
   "source": []
  }
 ],
 "metadata": {
  "kernelspec": {
   "display_name": "Python 3",
   "language": "python",
   "name": "python3"
  },
  "language_info": {
   "codemirror_mode": {
    "name": "ipython",
    "version": 3
   },
   "file_extension": ".py",
   "mimetype": "text/x-python",
   "name": "python",
   "nbconvert_exporter": "python",
   "pygments_lexer": "ipython3",
   "version": "3.5.2"
  }
 },
 "nbformat": 4,
 "nbformat_minor": 1
}
